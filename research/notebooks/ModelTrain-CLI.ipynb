{
 "cells": [
  {
   "cell_type": "markdown",
   "metadata": {},
   "source": [
    "### Installation \n",
    "\n",
    "1. **Open your Jupyter Notebook**: Ensure that you have Jupyter Notebook running and that you are in the directory where you want the cloned repository to be placed.\n",
    "\n",
    "2. **Execute the Clone Command**: In a new cell in your Jupyter Notebook, paste the following command and then execute the cell:\n",
    "\n",
    "```python\n",
    "!git clone https://github.com/atikul-islam-sajib/BT-Seg.git\n",
    "```\n",
    "\n",
    "This command uses the `git clone` command to copy the `BT-Seg` repository from GitHub to your local environment. The `!` at the beginning allows you to run shell commands directly from the notebook cell.\n",
    "\n",
    "3. **Verify the Clone**: After executing the command, you should see output in the notebook cell indicating the progress of the clone operation. Once it's complete, you can verify the cloning by listing the contents of the current directory with another command:\n",
    "\n",
    "```python\n",
    "!ls\n",
    "```"
   ]
  },
  {
   "cell_type": "code",
   "execution_count": null,
   "metadata": {},
   "outputs": [],
   "source": [
    "# Clone the repo\n",
    "!git clone https://github.com/atikul-islam-sajib/BT-Seg.git"
   ]
  },
  {
   "cell_type": "markdown",
   "metadata": {},
   "source": [
    "\n",
    "#### **Next Steps**\n",
    "Look for the `BT-Seg` directory in the output. This confirms that the repository has been successfully cloned into your environment.\n",
    "\n",
    "4. **Explore the Repository**: Now that you have cloned the `BT-Seg` repository, you can navigate into the directory and start exploring or using the project. To change the directory within the Jupyter Notebook, use the `%cd` magic command followed by the directory name:\n",
    "\n",
    "```python\n",
    "%cd BT-Seg\n",
    "```\n",
    "\n",
    "5. **Proceed with the Project**: From here, you can proceed with whatever tasks you need to perform within the `BT-Seg` project, such as opening the project files in the notebook, running scripts, or following the project's setup instructions.\n",
    "\n",
    "Remember, the specific steps you'll take within the `BT-Seg` directory will depend on the project's documentation and requirements, so be sure to read through any README files or documentation provided in the repository to get started."
   ]
  },
  {
   "cell_type": "code",
   "execution_count": null,
   "metadata": {},
   "outputs": [],
   "source": [
    "# Change the directory\n",
    "%cd BT-Seg/"
   ]
  },
  {
   "cell_type": "markdown",
   "metadata": {},
   "source": [
    "#### Install the requirements\n",
    "    !pip install -r requirements.txt"
   ]
  },
  {
   "cell_type": "code",
   "execution_count": null,
   "metadata": {},
   "outputs": [],
   "source": [
    "# Install the requirements\n",
    "!pip install -r requirements.txt"
   ]
  },
  {
   "cell_type": "code",
   "execution_count": null,
   "metadata": {},
   "outputs": [],
   "source": [
    "# Check the cli \n",
    "\n",
    "!python /BT-Seg/src/cli.py --help"
   ]
  },
  {
   "cell_type": "markdown",
   "metadata": {},
   "source": [
    "#### Do the training with UNet"
   ]
  },
  {
   "cell_type": "code",
   "execution_count": null,
   "metadata": {},
   "outputs": [],
   "source": [
    "# Train the model\n",
    "!python BT-Seg/src/cli.py --image_path /brain.zip --batch_size 4 --image_size 128 --split_ratio 0.30 --epochs 30 --lr 1e-4 --loss None --display False --device mps --train"
   ]
  },
  {
   "cell_type": "markdown",
   "metadata": {},
   "source": [
    "#### Do the testing with UNet"
   ]
  },
  {
   "cell_type": "code",
   "execution_count": null,
   "metadata": {},
   "outputs": [],
   "source": [
    "# Do the testing\n",
    "!python /BT-Seg/src/cli.py --device mps --test "
   ]
  },
  {
   "cell_type": "markdown",
   "metadata": {},
   "source": [
    "#### Display the images using UNet"
   ]
  },
  {
   "cell_type": "code",
   "execution_count": null,
   "metadata": {},
   "outputs": [],
   "source": [
    "# Plot the images\n",
    "from IPython.display import Image\n",
    "\n",
    "Image(\"/BT-Seg/outputs/test_images/result.png\")"
   ]
  },
  {
   "cell_type": "markdown",
   "metadata": {},
   "source": [
    "# Use AttentionUNet"
   ]
  },
  {
   "cell_type": "markdown",
   "metadata": {},
   "source": [
    "##### Train the model using AttentionUNet"
   ]
  },
  {
   "cell_type": "code",
   "execution_count": null,
   "metadata": {},
   "outputs": [],
   "source": [
    "!python /BT-Seg/src/cli.py --image_path /brain.zip --image_size 128 --batch_size 4 --split_ratio 0.30 --epochs 10 --lr 1e-4 --loss None --attentionUNet True --display True --device mps --train"
   ]
  },
  {
   "cell_type": "markdown",
   "metadata": {},
   "source": [
    "##### Test the model using AttentionUNet"
   ]
  },
  {
   "cell_type": "code",
   "execution_count": null,
   "metadata": {},
   "outputs": [],
   "source": [
    "!python /BT-Seg/src/cli.py --device mps --test --is_attentionUNet True"
   ]
  },
  {
   "cell_type": "markdown",
   "metadata": {},
   "source": [
    "#### Plot the images"
   ]
  },
  {
   "cell_type": "code",
   "execution_count": null,
   "metadata": {},
   "outputs": [],
   "source": [
    "# Plot the images\n",
    "from IPython.display import Image\n",
    "\n",
    "Image(\"BT-Seg/outputs/test_images/result.png\")"
   ]
  }
 ],
 "metadata": {
  "kernelspec": {
   "display_name": "GPSG",
   "language": "python",
   "name": "python3"
  },
  "language_info": {
   "codemirror_mode": {
    "name": "ipython",
    "version": 3
   },
   "file_extension": ".py",
   "mimetype": "text/x-python",
   "name": "python",
   "nbconvert_exporter": "python",
   "pygments_lexer": "ipython3",
   "version": "3.9.18"
  }
 },
 "nbformat": 4,
 "nbformat_minor": 2
}
