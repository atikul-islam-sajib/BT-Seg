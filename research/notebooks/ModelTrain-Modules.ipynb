{
 "cells": [
  {
   "cell_type": "markdown",
   "metadata": {},
   "source": [
    "1. **Open your Jupyter Notebook**: Ensure that you have Jupyter Notebook running and that you are in the directory where you want the cloned repository to be placed.\n",
    "\n",
    "2. **Execute the Clone Command**: In a new cell in your Jupyter Notebook, paste the following command and then execute the cell:\n",
    "\n",
    "```python\n",
    "!git clone https://github.com/atikul-islam-sajib/BT-Seg.git\n",
    "```\n",
    "\n",
    "This command uses the `git clone` command to copy the `BT-Seg` repository from GitHub to your local environment. The `!` at the beginning allows you to run shell commands directly from the notebook cell.\n",
    "\n",
    "3. **Verify the Clone**: After executing the command, you should see output in the notebook cell indicating the progress of the clone operation. Once it's complete, you can verify the cloning by listing the contents of the current directory with another command:\n",
    "\n",
    "```python\n",
    "!ls\n",
    "```"
   ]
  },
  {
   "cell_type": "code",
   "execution_count": null,
   "metadata": {},
   "outputs": [],
   "source": [
    "!git clone https://github.com/atikul-islam-sajib/BT-Seg.git"
   ]
  },
  {
   "cell_type": "markdown",
   "metadata": {},
   "source": [
    "\n",
    "#### **Next Steps**\n",
    "Look for the `BT-Seg` directory in the output. This confirms that the repository has been successfully cloned into your environment.\n",
    "\n",
    "4. **Explore the Repository**: Now that you have cloned the `BT-Seg` repository, you can navigate into the directory and start exploring or using the project. To change the directory within the Jupyter Notebook, use the `%cd` magic command followed by the directory name:\n",
    "\n",
    "```python\n",
    "%cd BT-Seg\n",
    "```\n",
    "\n",
    "5. **Proceed with the Project**: From here, you can proceed with whatever tasks you need to perform within the `BT-Seg` project, such as opening the project files in the notebook, running scripts, or following the project's setup instructions.\n",
    "\n",
    "Remember, the specific steps you'll take within the `BT-Seg` directory will depend on the project's documentation and requirements, so be sure to read through any README files or documentation provided in the repository to get started."
   ]
  },
  {
   "cell_type": "code",
   "execution_count": null,
   "metadata": {},
   "outputs": [],
   "source": [
    "%cd BT-Seg"
   ]
  },
  {
   "cell_type": "markdown",
   "metadata": {},
   "source": [
    "#### Install the requirements\n",
    "    !pip install -r requirements.txt"
   ]
  },
  {
   "cell_type": "markdown",
   "metadata": {},
   "source": [
    "!pip install -r requirements.txt"
   ]
  },
  {
   "cell_type": "markdown",
   "metadata": {},
   "source": [
    "#### Do the training with UNet"
   ]
  },
  {
   "cell_type": "markdown",
   "metadata": {},
   "source": [
    "##### Import all modules"
   ]
  },
  {
   "cell_type": "code",
   "execution_count": null,
   "metadata": {},
   "outputs": [],
   "source": [
    "# Import the necessary modules\n",
    "\n",
    "from src.dataloader import Loader\n",
    "from src.trainer import Trainer\n",
    "from src.test import Charts"
   ]
  },
  {
   "cell_type": "markdown",
   "metadata": {},
   "source": [
    "##### Load the dataset"
   ]
  },
  {
   "cell_type": "code",
   "execution_count": null,
   "metadata": {},
   "outputs": [],
   "source": [
    "loader = Loader(\n",
    "    image_path=\"/brain.zip\",\n",
    "    batch_size=4,\n",
    "    image_size=128,\n",
    "    split_ratio=0.30\n",
    "    )\n",
    "\n",
    "# Unzip the dataset\n",
    "loader.unzip_folder()\n",
    "\n",
    "# Create a PyTorch DataLoader\n",
    "dataloader = loader.create_dataloader()"
   ]
  },
  {
   "cell_type": "code",
   "execution_count": null,
   "metadata": {},
   "outputs": [],
   "source": [
    "# Display dataset details (optional)\n",
    "Loader.details_dataset()"
   ]
  },
  {
   "cell_type": "code",
   "execution_count": null,
   "metadata": {},
   "outputs": [],
   "source": [
    "# Display a batch of images (optional)\n",
    "Loader.display_images()"
   ]
  },
  {
   "cell_type": "markdown",
   "metadata": {},
   "source": [
    "##### Do the training with UNet"
   ]
  },
  {
   "cell_type": "code",
   "execution_count": null,
   "metadata": {},
   "outputs": [],
   "source": [
    "# Initialize the Trainer with training configurations\n",
    "trainer = Trainer(\n",
    "    epochs=30,\n",
    "    lr=1e-4,\n",
    "    loss=None, \n",
    "    is_attentionUNet=False,\n",
    "    display=True,\n",
    "    device=\"mps\",\n",
    ")\n",
    "\n",
    "# Start the training process\n",
    "trainer.train()"
   ]
  },
  {
   "cell_type": "code",
   "execution_count": null,
   "metadata": {},
   "outputs": [],
   "source": [
    "# Check the metrics(training + testing loss)\n",
    "Trainer.plot_loss_curves()"
   ]
  },
  {
   "cell_type": "markdown",
   "metadata": {},
   "source": [
    "##### Display the performance evaluation"
   ]
  },
  {
   "cell_type": "code",
   "execution_count": null,
   "metadata": {},
   "outputs": [],
   "source": [
    "# Initialize the Charts for performance evaluation\n",
    "charts = Charts(\n",
    "    device=\"mps\"\n",
    ")\n",
    "\n",
    "# Execute the testing and generate charts\n",
    "charts.test()"
   ]
  },
  {
   "cell_type": "markdown",
   "metadata": {},
   "source": [
    "# AttentionUNet"
   ]
  },
  {
   "cell_type": "markdown",
   "metadata": {},
   "source": [
    "#### Train with attentionUNet"
   ]
  },
  {
   "cell_type": "code",
   "execution_count": null,
   "metadata": {},
   "outputs": [],
   "source": [
    "# Initialize the Trainer with training configurations\n",
    "trainer = Trainer(\n",
    "    epochs=30,\n",
    "    lr=1e-4,\n",
    "    loss=None,\n",
    "    is_attentionUNet=True,\n",
    "    display=True,\n",
    "    device=\"mps\",\n",
    ")\n",
    "\n",
    "# Start the training process\n",
    "trainer.train()"
   ]
  },
  {
   "cell_type": "markdown",
   "metadata": {},
   "source": [
    "##### Display the performance evaluation"
   ]
  },
  {
   "cell_type": "code",
   "execution_count": null,
   "metadata": {},
   "outputs": [],
   "source": [
    "# Initialize the Charts for performance evaluation\n",
    "charts = Charts(\n",
    "    device=\"mps\",\n",
    "    is_attentionUNet = True\n",
    "    )\n",
    "\n",
    "# Execute the testing and generate charts\n",
    "charts.test()"
   ]
  }
 ],
 "metadata": {
  "kernelspec": {
   "display_name": "GPSG",
   "language": "python",
   "name": "python3"
  },
  "language_info": {
   "codemirror_mode": {
    "name": "ipython",
    "version": 3
   },
   "file_extension": ".py",
   "mimetype": "text/x-python",
   "name": "python",
   "nbconvert_exporter": "python",
   "pygments_lexer": "ipython3",
   "version": "3.9.18"
  }
 },
 "nbformat": 4,
 "nbformat_minor": 2
}
